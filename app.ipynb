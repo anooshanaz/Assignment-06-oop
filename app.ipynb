{
 "cells": [
  {
   "cell_type": "markdown",
   "id": "caa3b5d2",
   "metadata": {},
   "source": [
    "1. Using self\n",
    "Assignment:\n",
    "Create a class Student with attributes name and marks. Use the self keyword to initialize these values via a constructor. Add a method display() that prints student details.\n"
   ]
  },
  {
   "cell_type": "code",
   "execution_count": null,
   "id": "0230fb88",
   "metadata": {},
   "outputs": [
    {
     "data": {
      "text/plain": [
       "'Student Name: Huzaifa, Marks: 90'"
      ]
     },
     "execution_count": 2,
     "metadata": {},
     "output_type": "execute_result"
    }
   ],
   "source": [
    "class Student():\n",
    "    def __init__(self,name,marks):\n",
    "        self.student_name = name\n",
    "        self.student_marks = marks\n",
    "    def display(self):\n",
    "        return f\"Student Name: {self.student_name}, Marks: {self.student_marks}\"\n",
    "\n",
    "student1 = Student(\"Huzaifa\",90)\n",
    "student1.display()       "
   ]
  },
  {
   "cell_type": "markdown",
   "id": "94453cc3",
   "metadata": {},
   "source": [
    "2. Using cls\n",
    "Assignment:\n",
    "Create a class Counter that keeps track of how many objects have been created. Use a class variable and a class method with cls to manage and display the count."
   ]
  },
  {
   "cell_type": "code",
   "execution_count": 6,
   "id": "464fd384",
   "metadata": {},
   "outputs": [
    {
     "data": {
      "text/plain": [
       "'Object Count: 3'"
      ]
     },
     "execution_count": 6,
     "metadata": {},
     "output_type": "execute_result"
    }
   ],
   "source": [
    "class Counter():\n",
    "    object_count = 0\n",
    "    def __init__(self):\n",
    "        Counter.object_count += 1\n",
    "    @classmethod\n",
    "    def display_count(cls):\n",
    "        return f\"Object Count: {Counter.object_count}\"\n",
    "    \n",
    "obj1 = Counter()\n",
    "obj2 = Counter()\n",
    "obj3 = Counter()\n",
    "\n",
    "Counter.display_count() # This will return the count of objects created"
   ]
  },
  {
   "cell_type": "markdown",
   "id": "e0fe87d0",
   "metadata": {},
   "source": [
    "3. Public Variables and Methods\n",
    "Assignment:\n",
    "Create a class Car with a public variable brand and a public method start(). Instantiate the class and access both from outside the class."
   ]
  },
  {
   "cell_type": "code",
   "execution_count": 8,
   "id": "eac67791",
   "metadata": {},
   "outputs": [
    {
     "name": "stdout",
     "output_type": "stream",
     "text": [
      "My car brand is  Audi\n",
      "Audi car is starting.....\n"
     ]
    }
   ],
   "source": [
    "class Car():\n",
    "    def __init__(self,brand):\n",
    "        self.car_brand = brand #public variable\n",
    "\n",
    "    def start(self):\n",
    "        print(f\"{self.car_brand} car is starting.....\")\n",
    "    \n",
    "car1 = Car(\"Audi\")\n",
    "print(\"My car brand is \",car1.car_brand) # This will print \"Audi\"\n",
    "car1.start() # This will print \"Audi car is starting.....\""
   ]
  },
  {
   "cell_type": "markdown",
   "id": "ab8cd5b6",
   "metadata": {},
   "source": [
    "4. Class Variables and Class Methods\n",
    "Assignment:\n",
    "Create a class Bank with a class variable bank_name. Add a class method change_bank_name(cls, name) that allows changing the bank name. Show that it affects all instances."
   ]
  },
  {
   "cell_type": "code",
   "execution_count": 44,
   "id": "19b25957",
   "metadata": {},
   "outputs": [
    {
     "name": "stdout",
     "output_type": "stream",
     "text": [
      "Before changing bank name:\n",
      "Customer: Allied, Bank: Old Bank Name\n",
      "Customer: Meezan, Bank: Old Bank Name\n",
      "\n",
      "After changing bank name:\n",
      "Customer: Allied, Bank: New Future Bank\n",
      "Customer: Meezan, Bank: New Future Bank\n"
     ]
    }
   ],
   "source": [
    "class Bank:\n",
    "    # Class variable\n",
    "    bank_name = \"Old Bank Name\"\n",
    "\n",
    "    def __init__(self, customer_name):\n",
    "        self.customer_name = customer_name\n",
    "\n",
    "    def show_details(self):\n",
    "        print(f\"Customer: {self.customer_name}, Bank: {Bank.bank_name}\")\n",
    "\n",
    "    # Class method to change bank name\n",
    "    @classmethod\n",
    "    def change_bank_name(cls, name):\n",
    "        cls.bank_name = name\n",
    "\n",
    "\n",
    "# Creating instances of Bank\n",
    "customer1 = Bank(\"Allied\")\n",
    "customer2 = Bank(\"Meezan\")\n",
    "\n",
    "# Showing initial details\n",
    "print(\"Before changing bank name:\")\n",
    "customer1.show_details()\n",
    "customer2.show_details()\n",
    "\n",
    "# Changing bank name using class method\n",
    "Bank.change_bank_name(\"New Future Bank\")\n",
    "\n",
    "# Showing updated details\n",
    "print(\"\\nAfter changing bank name:\")\n",
    "customer1.show_details()\n",
    "customer2.show_details()\n"
   ]
  },
  {
   "cell_type": "markdown",
   "id": "65a30f77",
   "metadata": {},
   "source": [
    "5. Static Variables and Static Methods\n",
    "Assignment:\n",
    "Create a class MathUtils with a static method add(a, b) that returns the sum. No class or instance variables should be used.\n",
    "\n"
   ]
  },
  {
   "cell_type": "code",
   "execution_count": 14,
   "id": "3e117d14",
   "metadata": {},
   "outputs": [
    {
     "name": "stdout",
     "output_type": "stream",
     "text": [
      "Sum of a + b = 30\n"
     ]
    }
   ],
   "source": [
    "class MathUnits:\n",
    "    @staticmethod\n",
    "    def add(a,b):\n",
    "        return a + b\n",
    "    \n",
    "sum_numbers= MathUnits.add(10, 20)\n",
    "print(\"Sum of a + b =\", sum_numbers) # This will print 30"
   ]
  },
  {
   "cell_type": "markdown",
   "id": "31493395",
   "metadata": {},
   "source": [
    "6. Constructors and Destructors\n",
    "Assignment:\n",
    "Create a class Logger that prints a message when an object is created (constructor) and another message when it is destroyed (destructor)."
   ]
  },
  {
   "cell_type": "code",
   "execution_count": 15,
   "id": "e7991c91",
   "metadata": {},
   "outputs": [
    {
     "name": "stdout",
     "output_type": "stream",
     "text": [
      "Logger object has been created\n",
      "Logger object has been destroyed\n"
     ]
    }
   ],
   "source": [
    "class Logger:\n",
    "    #constrctor\n",
    "    def __init__(self):\n",
    "        print(\"Logger object has been created\")\n",
    "\n",
    "    #destructor\n",
    "    def __del__(self):\n",
    "        print(\"Logger object has been destroyed\")\n",
    "\n",
    "#creating an object of Logger class\n",
    "logger1 = Logger()\n",
    "#deleting the object of Logger class\n",
    "del logger1\n",
    "\n",
    "    "
   ]
  },
  {
   "cell_type": "markdown",
   "id": "50796c21",
   "metadata": {},
   "source": [
    "7. Access Modifiers: Public, Private, and Protected\n",
    "Assignment:\n",
    "Create a class Employee with:\n",
    "\n",
    "a public variable name,\n",
    "\n",
    "a protected variable _salary, and\n",
    "\n",
    "a private variable __ssn.\n",
    "\n",
    "Try accessing all three variables from an object of the class and document what happens."
   ]
  },
  {
   "cell_type": "code",
   "execution_count": 16,
   "id": "d76c1054",
   "metadata": {},
   "outputs": [
    {
     "name": "stdout",
     "output_type": "stream",
     "text": [
      "Employee Name:  Huzaifa\n",
      "Employee Salary:  10000\n",
      "Cannot access private variable __ssn directly\n",
      "Employee SSN:  123456789\n"
     ]
    }
   ],
   "source": [
    "class Employee():\n",
    "    #public variable\n",
    "    emp_name = \"Huzaifa\"\n",
    "    #protected variable\n",
    "    _emp_salary = 10000\n",
    "    #private variable\n",
    "    __ssn = 123456789\n",
    "\n",
    "#creating an object of Employee class\n",
    "employee1 = Employee()\n",
    "#accessing public variable\n",
    "print(\"Employee Name: \", employee1.emp_name) # This will print \"Huzaifa\"\n",
    "#accessing protected variable\n",
    "print(\"Employee Salary: \", employee1._emp_salary) # This will print 10000\n",
    "#accessing private variable\n",
    "try:\n",
    "    print(\"Employee SSN: \", employee1.__ssn) # This will raise an AttributeError\n",
    "except AttributeError:\n",
    "    print(\"Cannot access private variable __ssn directly\")\n",
    "\n",
    "#accessing private variable using name mangling\n",
    "print(\"Employee SSN: \", employee1._Employee__ssn) # This will print 123456789\n",
    "    "
   ]
  },
  {
   "cell_type": "markdown",
   "id": "c3908927",
   "metadata": {},
   "source": [
    "8. The super() Function\n",
    "Assignment:\n",
    "Create a class Person with a constructor that sets the name. Inherit a class Teacher from it, add a subject field, and use super() to call the base class constructor."
   ]
  },
  {
   "cell_type": "code",
   "execution_count": 43,
   "id": "62560b6a",
   "metadata": {},
   "outputs": [
    {
     "name": "stdout",
     "output_type": "stream",
     "text": [
      "Teacher Name: Hamza Syed, Subject: Mathematics\n",
      "This is a teacher class\n"
     ]
    }
   ],
   "source": [
    "class Person:\n",
    "    def __init__(self, name):  # Fixed constructor method\n",
    "        self.name = name\n",
    "\n",
    "# Derived Teacher class\n",
    "class Teacher(Person):\n",
    "    def __init__(self, name, subject):\n",
    "        # Calling parent constructor\n",
    "        super().__init__(name)\n",
    "        self.subject = subject\n",
    "\n",
    "    def display(self):\n",
    "        print(f\"Teacher Name: {self.name}, Subject: {self.subject}\")\n",
    "        print(\"This is a teacher class\")\n",
    "\n",
    "# Creating an object of Teacher\n",
    "teacher = Teacher(\"Hamza Syed\", \"Mathematics\")\n",
    "teacher.display()\n"
   ]
  },
  {
   "cell_type": "markdown",
   "id": "eaa7dcc3",
   "metadata": {},
   "source": [
    "9. Abstract Classes and Methods\n",
    "Assignment:\n",
    "Use the abc module to create an abstract class Shape with an abstract method area(). Inherit a class Rectangle that implements area().\n",
    "\n"
   ]
  },
  {
   "cell_type": "code",
   "execution_count": 25,
   "id": "6b2bc612",
   "metadata": {},
   "outputs": [
    {
     "name": "stdout",
     "output_type": "stream",
     "text": [
      "Area of rectangle:  50\n"
     ]
    }
   ],
   "source": [
    "from abc import ABC, abstractmethod\n",
    "class Shape(ABC):\n",
    "    @abstractmethod\n",
    "    def area(self):\n",
    "        pass\n",
    "\n",
    "#class rectangle inheriting from Shape class\n",
    "class Rectangle(Shape):\n",
    "    def __init__(self,width,height):\n",
    "        self.width = width\n",
    "        self.height = height\n",
    "    def area(self):\n",
    "        return self.width * self.height\n",
    "\n",
    "rect = Rectangle(5,10)\n",
    "print(\"Area of rectangle: \", rect.area()) # This will print 50\n"
   ]
  },
  {
   "cell_type": "markdown",
   "id": "e2baff3e",
   "metadata": {},
   "source": [
    "10. Instance Methods\n",
    "Assignment:\n",
    "Create a class Dog with instance variables name and breed. Add an instance method bark() that prints a message including the dog's name.\n",
    "\n"
   ]
  },
  {
   "cell_type": "code",
   "execution_count": 26,
   "id": "83cc520e",
   "metadata": {},
   "outputs": [
    {
     "name": "stdout",
     "output_type": "stream",
     "text": [
      "Buddy says Woof!\n"
     ]
    }
   ],
   "source": [
    "class Dog:\n",
    "    def __init__(self,name,breed):\n",
    "        self.name = name\n",
    "        self.breed = breed\n",
    "    def bark(self):\n",
    "        print(f\"{self.name} says Woof!\")\n",
    "\n",
    "my_dog = Dog(\"Buddy\",\"Golden Retriever\")\n",
    "my_dog.bark()"
   ]
  },
  {
   "cell_type": "markdown",
   "id": "f16539a9",
   "metadata": {},
   "source": [
    "11. Class Methods\n",
    "Assignment:\n",
    "Create a class Book with a class variable total_books. Add a class method increment_book_count() to increase the count when a new book is added."
   ]
  },
  {
   "cell_type": "code",
   "execution_count": 27,
   "id": "0b0867fb",
   "metadata": {},
   "outputs": [
    {
     "name": "stdout",
     "output_type": "stream",
     "text": [
      "Total books:  2\n"
     ]
    }
   ],
   "source": [
    "class Book:\n",
    "    total_books = 0 #class variable to keep track of total books\n",
    "\n",
    "    @classmethod\n",
    "    def increment_book_count(cls):\n",
    "        cls.total_books += 1\n",
    "    def __init__(self,title,author):\n",
    "        #initializing instance variables\n",
    "        self.title = title\n",
    "        self.author = author\n",
    "        #calling class method to increment book count\n",
    "        Book.increment_book_count()\n",
    "\n",
    "#creating book objects\n",
    "book1 = Book(\"The Great Gatsby\",\"F. Scott Fitzgerald\")\n",
    "book2 = Book(\"To Kill a Mockingbird\",\"Harper Lee\")\n",
    "\n",
    "#Accessing class variable\n",
    "print(\"Total books: \", Book.total_books) # This will print 2\n",
    "\n"
   ]
  },
  {
   "cell_type": "markdown",
   "id": "4e7d674b",
   "metadata": {},
   "source": [
    "12. Static Methods\n",
    "Assignment:\n",
    "Create a class TemperatureConverter with a static method celsius_to_fahrenheit(c) that returns the Fahrenheit value."
   ]
  },
  {
   "cell_type": "code",
   "execution_count": 28,
   "id": "9aca2d25",
   "metadata": {},
   "outputs": [
    {
     "name": "stdout",
     "output_type": "stream",
     "text": [
      "25°C is equal to 77.0°F\n"
     ]
    }
   ],
   "source": [
    "class TemperatureConverter:\n",
    "    @staticmethod\n",
    "    def celsius_to_fahrenheit(c):\n",
    "        return (c * 9/5) + 32 #formula\n",
    "    \n",
    "celsius = 25\n",
    "fahrenheit = TemperatureConverter.celsius_to_fahrenheit(celsius)\n",
    "print(f\"{celsius}°C is equal to {fahrenheit}°F\") # This will print 25°C is equal to 77°F"
   ]
  },
  {
   "cell_type": "markdown",
   "id": "a7c9a9af",
   "metadata": {},
   "source": [
    "13. Composition\n",
    "Assignment:\n",
    "Create a class Engine and a class Car. Use composition by passing an Engine object to the Car class during initialization. Access a method of the Engine class via the Car class.\n",
    "\n"
   ]
  },
  {
   "cell_type": "code",
   "execution_count": 29,
   "id": "c41ecd6d",
   "metadata": {},
   "outputs": [
    {
     "name": "stdout",
     "output_type": "stream",
     "text": [
      "Ford car with V8 engine is starting...\n"
     ]
    }
   ],
   "source": [
    "class Engine:\n",
    "    def __init__(self,engine_type):\n",
    "        self.engine_type = engine_type\n",
    "    def start(self):\n",
    "        return f\"{self.engine_type} engine is starting...\"\n",
    "class Car:\n",
    "    def __init__(self,brand,engine):\n",
    "        self.brand = brand\n",
    "        self.engine = engine\n",
    "    def start(self):\n",
    "        return f\"{self.brand} car with {self.engine.start()}\"\n",
    "    \n",
    "engine = Engine(\"V8\")\n",
    "car = Car(\"Ford\",engine)\n",
    "print(car.start()) # This will print \"Ford car with V8 engine is starting...\""
   ]
  },
  {
   "cell_type": "markdown",
   "id": "edd61d33",
   "metadata": {},
   "source": [
    "14. Aggregation\n",
    "Assignment:\n",
    "Create a class Department and a class Employee. Use aggregation by having a Department object store a reference to an Employee object that exists independently of it."
   ]
  },
  {
   "cell_type": "code",
   "execution_count": 30,
   "id": "9def1af6",
   "metadata": {},
   "outputs": [
    {
     "name": "stdout",
     "output_type": "stream",
     "text": [
      "Department: IT, Employee: Name: Anosha, Position: Frontend Developer\n"
     ]
    }
   ],
   "source": [
    "class Employee:\n",
    "    def __init__(self,name, position):\n",
    "        self.name = name\n",
    "        self.position = position\n",
    "    \n",
    "    def get_employee_info(self):\n",
    "        return f\"Name: {self.name}, Position: {self.position}\"\n",
    "    \n",
    "class Department:\n",
    "    def __init__(self,department_name,employee):\n",
    "        self.department_name = department_name\n",
    "        self.employee = employee\n",
    "    def get_department_info(self):\n",
    "        return f\"Department: {self.department_name}, Employee: {self.employee.get_employee_info()}\"\n",
    "\n",
    "#creating an employee object\n",
    "employee1 = Employee(\"Anosha\", \"Frontend Developer\")\n",
    "employee1 = Department(\"IT\", employee1)\n",
    "print(employee1.get_department_info()) # This will print \"Department: IT, Employee: Name: Anosha, Position: Frontend Developer\"\n",
    "\n"
   ]
  },
  {
   "cell_type": "markdown",
   "id": "2a214d43",
   "metadata": {},
   "source": [
    "15. Method Resolution Order (MRO) and Diamond Inheritance\n",
    "Assignment:\n",
    "Create four classes:\n",
    "\n",
    "A with a method show(),\n",
    "\n",
    "B and C that inherit from A and override show(),\n",
    "\n",
    "D that inherits from both B and C.\n",
    "\n",
    "Create an object of D and call show() to observe MRO."
   ]
  },
  {
   "cell_type": "code",
   "execution_count": 31,
   "id": "9918ca2e",
   "metadata": {},
   "outputs": [
    {
     "name": "stdout",
     "output_type": "stream",
     "text": [
      "[<class '__main__.D'>, <class '__main__.B'>, <class '__main__.C'>, <class '__main__.A'>, <class 'object'>]\n"
     ]
    }
   ],
   "source": [
    "class A:\n",
    "    def show(self):\n",
    "        print(\"Method from class A\")\n",
    "\n",
    "class B(A):\n",
    "    def show(self):\n",
    "        print(\"Method from class B\")\n",
    "\n",
    "class C(A):\n",
    "    def show(self):\n",
    "        print(\"Method from class C\")\n",
    "\n",
    "class D(B, C):\n",
    "    def show(self):\n",
    "        pass\n",
    "\n",
    "d = D()\n",
    "d.show() # This will print \"Method from class B\" because of method resolution order (MRO)\n",
    "\n",
    "print(D.mro()) # This will print the method resolution order of class D\n",
    "\n"
   ]
  },
  {
   "cell_type": "markdown",
   "id": "e948c0f9",
   "metadata": {},
   "source": [
    "16. Function Decorators\n",
    "Assignment:\n",
    "Write a decorator function log_function_call that prints \"Function is being called\" before a function executes. Apply it to a function say_hello()."
   ]
  },
  {
   "cell_type": "code",
   "execution_count": 32,
   "id": "f840dfe8",
   "metadata": {},
   "outputs": [
    {
     "name": "stdout",
     "output_type": "stream",
     "text": [
      "Function is being called...\n"
     ]
    },
    {
     "data": {
      "text/plain": [
       "'Hello, World!'"
      ]
     },
     "execution_count": 32,
     "metadata": {},
     "output_type": "execute_result"
    }
   ],
   "source": [
    "#decorator function\n",
    "def log_function_call(func):\n",
    "    def wrapper():\n",
    "        print(\"Function is being called...\")\n",
    "        return func()\n",
    "    return wrapper\n",
    "\n",
    "#decorated function\n",
    "@log_function_call\n",
    "def greet():\n",
    "    return \"Hello, World!\"\n",
    "\n",
    "greet() # This will print \"Function is being called...\" and then \"Hello, World!\""
   ]
  },
  {
   "cell_type": "markdown",
   "id": "958f8d2e",
   "metadata": {},
   "source": [
    "17. Class Decorators\n",
    "Assignment:\n",
    "Create a class decorator add_greeting that modifies a class to add a greet() method returning \"Hello from Decorator!\". Apply it to a class Person."
   ]
  },
  {
   "cell_type": "code",
   "execution_count": 33,
   "id": "b10f78eb",
   "metadata": {},
   "outputs": [
    {
     "name": "stdout",
     "output_type": "stream",
     "text": [
      "Hi I am: Huzaifa\n"
     ]
    }
   ],
   "source": [
    "#class decorator\n",
    "def add_greeting(cls):\n",
    "    def greet(self):\n",
    "        return \"Hello from Decorator\"\n",
    "    #adding greet method to the class\n",
    "    cls.greet = greet\n",
    "    return cls\n",
    "\n",
    "#applying class decorator\n",
    "@add_greeting\n",
    "class Person:\n",
    "    def __init__(self,name):\n",
    "        self.name = name\n",
    "    def display(self):\n",
    "        return f\"Hi I am: {self.name}\"\n",
    "\n",
    "person = Person(\"Huzaifa\")\n",
    "print(person.display()) # This will print \"Hi I am: Huzaifa\"\n"
   ]
  },
  {
   "cell_type": "markdown",
   "id": "9e45eeb3",
   "metadata": {},
   "source": [
    "18. Property Decorators: @property, @setter, and @deleter\n",
    "Assignment:\n",
    "Create a class Product with a private attribute _price. Use @property to get the price, @price.setter to update it, and @price.deleter to delete it."
   ]
  },
  {
   "cell_type": "code",
   "execution_count": 37,
   "id": "ffdaf981",
   "metadata": {},
   "outputs": [
    {
     "name": "stdout",
     "output_type": "stream",
     "text": [
      "1000\n",
      "1200\n",
      "Price cannot be negative\n",
      "Price attribute deletedLaptop\n"
     ]
    }
   ],
   "source": [
    "class Product:\n",
    "    def __init__(self,name,price):\n",
    "        self.name = name\n",
    "        self.price = price\n",
    "\n",
    "    #getter for price\n",
    "    @property\n",
    "    def price(self):\n",
    "        return self._price\n",
    "    \n",
    "    #setter for price\n",
    "    @price.setter\n",
    "    def price(self,value):\n",
    "        if value < 0:\n",
    "            print(\"Price cannot be negative\")\n",
    "        self._price = value\n",
    "    \n",
    "    #Delete the price attribute\n",
    "    @price.deleter\n",
    "    def price(self):\n",
    "        del self._price\n",
    "        print(f\"Price attribute deleted{self.name}\")\n",
    "\n",
    "product = Product(\"Laptop\", 1000)\n",
    "print(product.price) # This will print 1000\n",
    "\n",
    "product.price = 1200 # This will set the price to 1200\n",
    "print(product.price) # This will print 1200\n",
    "\n",
    "product.price = -500 # This will raise ValueError: Price cannot be negative\n",
    "\n",
    "del product.price # This will delete the price attribute and print \"Price attribute deleted Laptop\"\n"
   ]
  },
  {
   "cell_type": "markdown",
   "id": "6a1e0955",
   "metadata": {},
   "source": [
    "19. callable() and __call__()\n",
    "Assignment:\n",
    "Create a class Multiplier with an __init__() to set a factor. Define a __call__() method that multiplies an input by the factor. Test it with callable() and by calling the object like a function."
   ]
  },
  {
   "cell_type": "code",
   "execution_count": 38,
   "id": "40c023e3",
   "metadata": {},
   "outputs": [
    {
     "name": "stdout",
     "output_type": "stream",
     "text": [
      "True\n",
      "50\n"
     ]
    }
   ],
   "source": [
    "class Multiplier:\n",
    "    def __init__(self,factor):\n",
    "        self.factor = factor\n",
    "\n",
    "    def __call__(self,number):\n",
    "        return number * self.factor\n",
    "\n",
    "#creating an object of Multiplier class\n",
    "multiplier = Multiplier(5)\n",
    "\n",
    "#testing the callable object\n",
    "print(callable(multiplier)) # This will return 50\n",
    "\n",
    "#calling the object with an argument\n",
    "result = multiplier(10)\n",
    "print(result) # This will print 50"
   ]
  },
  {
   "cell_type": "markdown",
   "id": "c3b1a54c",
   "metadata": {},
   "source": [
    "20. Creating a Custom Exception\n",
    "Assignment:\n",
    "Create a custom exception InvalidAgeError. Write a function check_age(age) that raises this exception if age < 18. Handle it with try...except.\n",
    "\n"
   ]
  },
  {
   "cell_type": "code",
   "execution_count": 42,
   "id": "51d655dc",
   "metadata": {},
   "outputs": [
    {
     "name": "stdout",
     "output_type": "stream",
     "text": [
      "Your age is 20. You are eligible.\n"
     ]
    }
   ],
   "source": [
    "# Custom exception class\n",
    "class InvalidAgeError(Exception):\n",
    "    def __init__(self, message=\"Age must be 18 or older\"):\n",
    "        self.message = message\n",
    "        super().__init__(self.message)\n",
    "\n",
    "# Function to check age\n",
    "def check_age(age):\n",
    "    if age < 18:\n",
    "        raise InvalidAgeError(\"Age must be 18 or older\")\n",
    "    else:\n",
    "        return f\"Your age is {age}. You are eligible.\"\n",
    "\n",
    "# Handling the exception\n",
    "try:\n",
    "    age = int(input(\"Enter your age: \"))\n",
    "    result = check_age(age)\n",
    "    print(result)\n",
    "except InvalidAgeError as e:\n",
    "    print(f\"Error: {e}\")\n",
    "except ValueError:\n",
    "    print(\"Invalid input. Please enter a number.\")\n"
   ]
  },
  {
   "cell_type": "markdown",
   "id": "3a056ad3",
   "metadata": {},
   "source": [
    "21. Make a Custom Class Iterable\n",
    "Assignment:\n",
    "Create a class Countdown that takes a start number. Implement __iter__() and __next__() to make the object iterable in a for-loop, counting down to 0."
   ]
  },
  {
   "cell_type": "code",
   "execution_count": 45,
   "id": "768eb5ad",
   "metadata": {},
   "outputs": [
    {
     "name": "stdout",
     "output_type": "stream",
     "text": [
      "Countdown:\n",
      "5\n",
      "4\n",
      "3\n",
      "2\n",
      "1\n",
      "0\n"
     ]
    }
   ],
   "source": [
    "class Countdown:\n",
    "    def __init__(self, start):\n",
    "        self.start = start\n",
    "        self.current = start  # internal state\n",
    "\n",
    "    def __iter__(self):\n",
    "        return self  # the object itself is the iterator\n",
    "\n",
    "    def __next__(self):\n",
    "        if self.current < 0:\n",
    "            raise StopIteration  # stop the iteration when below 0\n",
    "        value = self.current\n",
    "        self.current -= 1\n",
    "        return value\n",
    "\n",
    "# Using the Countdown class in a for-loop\n",
    "cd = Countdown(5)\n",
    "\n",
    "print(\"Countdown:\")\n",
    "for number in cd:\n",
    "    print(number)\n"
   ]
  }
 ],
 "metadata": {
  "kernelspec": {
   "display_name": "Python 3",
   "language": "python",
   "name": "python3"
  },
  "language_info": {
   "codemirror_mode": {
    "name": "ipython",
    "version": 3
   },
   "file_extension": ".py",
   "mimetype": "text/x-python",
   "name": "python",
   "nbconvert_exporter": "python",
   "pygments_lexer": "ipython3",
   "version": "3.12.9"
  }
 },
 "nbformat": 4,
 "nbformat_minor": 5
}
